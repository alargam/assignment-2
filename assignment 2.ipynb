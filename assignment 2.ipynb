{
 "cells": [
  {
   "cell_type": "markdown",
   "metadata": {},
   "source": [
    "Assignment 2 "
   ]
  },
  {
   "cell_type": "code",
   "execution_count": null,
   "metadata": {},
   "outputs": [],
   "source": [
    "#1) Write a Python program to add an item to a tuple.\n",
    "tuple = (1,2,\"alargam\",\"amit\",77)\n",
    "tuple = list(tuple)\n",
    "tuple.insert(0,\"add\")\n",
    "print(tuple)"
   ]
  },
  {
   "cell_type": "code",
   "execution_count": null,
   "metadata": {},
   "outputs": [],
   "source": [
    "#2) Write a Python program to sum all the items in a list.\n",
    "list1 = [1,2,3,4]\n",
    "my_list1 = sum(list1)\n",
    "print('the sum of all items in list =',my_list1)"
   ]
  },
  {
   "cell_type": "code",
   "execution_count": null,
   "metadata": {},
   "outputs": [],
   "source": [
    "#3) Write a Python program to multiply all the items in a list.\n",
    "import math\n",
    "list1 = [1,2,3,4]\n",
    "my_list2 = math.prod(list1)\n",
    "print('the multiply number of list =',my_list2)"
   ]
  },
  {
   "cell_type": "code",
   "execution_count": null,
   "metadata": {},
   "outputs": [],
   "source": [
    "#4) Write a Python program to get the smallest number from a list.\n",
    "list1 = [1,2,3,4]\n",
    "smalle = min(list1)\n",
    "print('the smallest number =',smalle)"
   ]
  },
  {
   "cell_type": "code",
   "execution_count": null,
   "metadata": {},
   "outputs": [],
   "source": [
    "#5) Write a Python program to get the largest number from a list.\n",
    "list1 = [1,2,3,4]\n",
    "large = max(list1)\n",
    "print('the largest number =',large)"
   ]
  },
  {
   "cell_type": "code",
   "execution_count": null,
   "metadata": {},
   "outputs": [],
   "source": [
    "#6) Write a program to count the number of strings from a given list of strings.\n",
    "\n",
    "list2 = [1,2,4,True,\"amit\"]\n",
    "print('The number of string in list =',len(list2))"
   ]
  },
  {
   "cell_type": "code",
   "execution_count": null,
   "metadata": {},
   "outputs": [],
   "source": [
    "#7) Write a Python program to clone or copy a list\n",
    "list2 = [1,2,4,True,\"amit\"]\n",
    "for i in range(2):\n",
    "  print(list2)"
   ]
  },
  {
   "cell_type": "code",
   "execution_count": null,
   "metadata": {},
   "outputs": [],
   "source": [
    "#8) Write a Python program to remove item(s) from a given set.\n",
    "set1 = {1,2,4,\"amit\"}\n",
    "set1.remove(1)\n",
    "print(set1)"
   ]
  },
  {
   "cell_type": "code",
   "execution_count": null,
   "metadata": {},
   "outputs": [],
   "source": [
    "#9) Write a Python program to check if a set is a subset of another set.\n",
    "set2 = {1,2,3,4}\n",
    "set3 = {1,2,3}\n",
    "for set2 in set3:\n",
    "  if set2 is set3:\n",
    "    print(True)\n",
    "    break\n",
    "  else:\n",
    "    print(False)\n",
    "    break"
   ]
  },
  {
   "cell_type": "code",
   "execution_count": null,
   "metadata": {},
   "outputs": [],
   "source": [
    "#10) Write a Python program to remove all elements from a given set.\n",
    "set4 = {1,2,4,\"amit\",True}\n",
    "set4.clear()\n",
    "print(set4)"
   ]
  },
  {
   "cell_type": "code",
   "execution_count": null,
   "metadata": {},
   "outputs": [],
   "source": [
    "#11) Write a Python program to find the maximum and minimum values in a set.\n",
    "set5 = {1,55,77,9,1,2,4,6,8,2,4,56,100,106,85,7}\n",
    "Max = max(set5)\n",
    "Min = min(set5)\n",
    "print(f'the maximum number in set is {Max} and the minimum is {Min}')"
   ]
  },
  {
   "cell_type": "code",
   "execution_count": null,
   "metadata": {},
   "outputs": [],
   "source": [
    "#12) Write a Python program to find the index of an item in a tuple."
   ]
  },
  {
   "cell_type": "code",
   "execution_count": null,
   "metadata": {},
   "outputs": [],
   "source": [
    "#13) Write a Python program to convert a tuple to a dictionary.\n",
    "tuple3 = {1,2,4,\"amit\",True}\n",
    "dic = enumerate(tuple3)      #----> enumerate use to convert a tuple to a dictionary\n",
    "print(list(dic))"
   ]
  },
  {
   "cell_type": "code",
   "execution_count": null,
   "metadata": {},
   "outputs": [],
   "source": [
    "#14) Write a Python program to unzip a list of tuples into individual lists.\n",
    "tuples = [(1,2,3),(9,55,18)]\n",
    "liste = list(tuples)\n",
    "print(liste)"
   ]
  },
  {
   "cell_type": "code",
   "execution_count": null,
   "metadata": {},
   "outputs": [],
   "source": [
    "#15) Write a Python program to reverse a tuple.\n",
    "tuples1 = (9,55,18,True,'amit')\n",
    "tuples1 = tuples1[::-1]\n",
    "print(tuples1)"
   ]
  },
  {
   "cell_type": "code",
   "execution_count": null,
   "metadata": {},
   "outputs": [],
   "source": [
    "#16) Write a Python program to convert a list of tuples into a dictionary\n",
    "tuple3 = [{1,2,4,\"amit\",True}]\n",
    "tuple3 = list(tuple3)\n",
    "dic = enumerate(tuple3)\n",
    "print(list(dic))"
   ]
  },
  {
   "cell_type": "code",
   "execution_count": null,
   "metadata": {},
   "outputs": [],
   "source": [
    "#17) Write a Python program to replace the last value of tuples in a list.\n",
    "\n",
    "# Sample list: [(10, 20, 40), (40, 50, 60), (70, 80, 90)]\n",
    "# Expected Output: [(10, 20, 100), (40, 50, 100), (70, 80, 100)]"
   ]
  },
  {
   "cell_type": "code",
   "execution_count": null,
   "metadata": {},
   "outputs": [],
   "source": [
    "#18)Write a Python program to sort a tuple by its float element\n",
    "tuple6 = {10.22 , 4.2 , 5.5 , 1.8 , 2.7 , 6.8 }\n",
    "tuple6 = list(tuple6)\n",
    "tuple6.sort()\n",
    "print(tuple6)"
   ]
  }
 ],
 "metadata": {
  "language_info": {
   "name": "python"
  }
 },
 "nbformat": 4,
 "nbformat_minor": 2
}
