{
  "cells": [
    {
      "cell_type": "markdown",
      "metadata": {
        "id": "Ui8LKXjlii3V"
      },
      "source": [
        "### 1) Write a program to print the maximum between two numbers. (one-line conditional statement)\n"
      ]
    },
    {
      "cell_type": "code",
      "execution_count": null,
      "metadata": {},
      "outputs": [],
      "source": [
        "num1 = 10\n",
        "num2 = 20\n",
        "\n",
        "max_num = num1 if num1 > num2 else num2\n",
        "\n",
        "print(\"The maximum number is:\", max_num)"
      ]
    },
    {
      "cell_type": "markdown",
      "metadata": {
        "id": "xQB_yP4rirZS"
      },
      "source": [
        "### 2) Write a program to find the maximum between three numbers.\n"
      ]
    },
    {
      "cell_type": "code",
      "execution_count": null,
      "metadata": {},
      "outputs": [],
      "source": [
        "num1 = 10\n",
        "num2 = 20\n",
        "num3 = 30\n",
        "\n",
        "max_num = max(num1, num2, num3)\n",
        "\n",
        "print(\"The maximum number is:\", max_num)\n"
      ]
    },
    {
      "cell_type": "markdown",
      "metadata": {
        "id": "di3xEq8mjBRK"
      },
      "source": [
        "### 3) Write a program to check whether a number is negative, or positive (one-line conditional statement)\n"
      ]
    },
    {
      "cell_type": "code",
      "execution_count": null,
      "metadata": {},
      "outputs": [],
      "source": [
        "number = 10\n",
        "\n",
        "result = \"Positive\" if number > 0 else \"Negative\" if number < 0 else \"Zero\"\n",
        "\n",
        "print(number, \"is\", result)\n"
      ]
    },
    {
      "cell_type": "markdown",
      "metadata": {
        "id": "grc5Gk_RjFBe"
      },
      "source": [
        "### 4) Write a  program to check whether a number is even or odd  (one-line statement).\n"
      ]
    },
    {
      "cell_type": "code",
      "execution_count": null,
      "metadata": {},
      "outputs": [],
      "source": [
        "number = 1\n",
        "\n",
        "result1 = 'even' if number % 2==0 else 'odd'\n",
        "print(f'number {number} is {result1}')"
      ]
    },
    {
      "cell_type": "markdown",
      "metadata": {
        "id": "-J3UtjpIjJPv"
      },
      "source": [
        "###5) Write a  program to check whether a year is a leap year or not. (one-line conditional statement).\n"
      ]
    },
    {
      "cell_type": "code",
      "execution_count": null,
      "metadata": {},
      "outputs": [],
      "source": [
        "years = 366\n",
        "\n",
        "result2 = 'leads years' if years == 366 else 'Not leads years'\n",
        "print(result2)\n"
      ]
    },
    {
      "cell_type": "markdown",
      "metadata": {
        "id": "JeN4yaIMjNlC"
      },
      "source": [
        "###6) Write a  program to store the weekdays in a list and access the week day and print it by index.\n"
      ]
    },
    {
      "cell_type": "code",
      "execution_count": null,
      "metadata": {},
      "outputs": [],
      "source": [
        "weekdays = {0: \"Monday\", 1: \"Tuesday\", 2: \"Wednesday\", 3: \"Thursday\", 4: \"Friday\", 5: \"Saturday\", 6: \"Sunday\"}\n",
        "\n",
        "index = int(input('enter index from 0 to 6\\n'))\n",
        "\n",
        "if 0 <= index <= 6:\n",
        "    weekday = weekdays[index]\n",
        "    print(\"The weekday at index\", index, \"is:\", weekday)\n",
        "else:\n",
        "    print(\"Invalid index. Dictionary keys must be integers between 0 and 6.\")\n"
      ]
    },
    {
      "cell_type": "markdown",
      "metadata": {
        "id": "ST7uKJmtjYh1"
      },
      "source": [
        "###7) Write a  program to print all alphabets from a to z using while loop"
      ]
    },
    {
      "cell_type": "code",
      "execution_count": null,
      "metadata": {},
      "outputs": [],
      "source": [
        "alphabets = 'a'\n",
        "while alphabets <= 'z':\n",
        "    print(alphabets)\n",
        "    alphabets = chr(ord(alphabets) + 1) \n",
        "    "
      ]
    },
    {
      "cell_type": "markdown",
      "metadata": {
        "id": "PkPPTrivjran"
      },
      "source": [
        "###8)Write a program to store numbers in the List and print its reverse"
      ]
    },
    {
      "cell_type": "code",
      "execution_count": null,
      "metadata": {},
      "outputs": [],
      "source": [
        "numbers = [1, 2, 3, 4, 5]\n",
        "\n",
        "revers = numbers[::-1] \n",
        "\n",
        "print(\"Original list:\", numbers)\n",
        "print(\"Reversed list:\", revers)\n"
      ]
    },
    {
      "cell_type": "markdown",
      "metadata": {
        "id": "2JoHNIaCj7fR"
      },
      "source": [
        "### 9) Write a program to print the multiplcation table of any number"
      ]
    },
    {
      "cell_type": "code",
      "execution_count": 1,
      "metadata": {},
      "outputs": [],
      "source": [
        "number = int(input('enter the number'))\n",
        "for i in range (13):\n",
        "  result = number * i\n",
        "  print(f'{number} * {i} = {result}')"
      ]
    },
    {
      "cell_type": "markdown",
      "metadata": {
        "id": "WTIX9yh1kLs-"
      },
      "source": [
        "###10)Write a program to print all even numbers between 1 to 100.(using while loop)"
      ]
    },
    {
      "cell_type": "code",
      "execution_count": null,
      "metadata": {
        "id": "i5fTGY3Qib9Y"
      },
      "outputs": [],
      "source": [
        "number = 1\n",
        "while number <= 100:\n",
        "  if number % 2 == 0:\n",
        "    print(number)\n",
        "  number += 1\n",
        "  "
      ]
    }
  ],
  "metadata": {
    "colab": {
      "private_outputs": true,
      "provenance": []
    },
    "kernelspec": {
      "display_name": "Python 3",
      "name": "python3"
    },
    "language_info": {
      "codemirror_mode": {
        "name": "ipython",
        "version": 3
      },
      "file_extension": ".py",
      "mimetype": "text/x-python",
      "name": "python",
      "nbconvert_exporter": "python",
      "pygments_lexer": "ipython3",
      "version": "3.12.3"
    }
  },
  "nbformat": 4,
  "nbformat_minor": 0
}
